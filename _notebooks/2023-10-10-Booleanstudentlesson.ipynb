{
 "cells": [
  {
   "cell_type": "markdown",
   "metadata": {},
   "source": [
    "---\n",
    "toc: true\n",
    "comments: true\n",
    "layout: post\n",
    "title: Student Teaching Hacks\n",
    "courses: {\"compsci\": {\"week\": 8} }\n",
    "type: hacks\n",
    "---"
   ]
  },
  {
   "cell_type": "code",
   "execution_count": 1,
   "metadata": {},
   "outputs": [
    {
     "name": "stdout",
     "output_type": "stream",
     "text": [
      "False\n"
     ]
    }
   ],
   "source": [
    "#Popcorn Hack\n",
    "num1 = 5\n",
    "num2 = 7\n",
    "are_equal = num1 == num2 \n",
    "\n",
    "print(are_equal)\n"
   ]
  },
  {
   "cell_type": "code",
   "execution_count": 3,
   "metadata": {},
   "outputs": [
    {
     "name": "stdout",
     "output_type": "stream",
     "text": [
      "True\n"
     ]
    }
   ],
   "source": [
    "#Popcorn Hack\n",
    "num1 = 5\n",
    "num2 = 7\n",
    "are_not_equal = num1 == num2\n",
    "print(are_not_equal)"
   ]
  },
  {
   "cell_type": "code",
   "execution_count": 4,
   "metadata": {},
   "outputs": [
    {
     "name": "stdout",
     "output_type": "stream",
     "text": [
      "False\n"
     ]
    }
   ],
   "source": [
    "#Popcorn Hack\n",
    "num1 = 2\n",
    "num2 = 8\n",
    "\n",
    "is_greater_than= num1 > num2\n",
    "print(is_greater_than)"
   ]
  },
  {
   "cell_type": "code",
   "execution_count": 5,
   "metadata": {},
   "outputs": [
    {
     "name": "stdout",
     "output_type": "stream",
     "text": [
      "True\n",
      "False\n"
     ]
    }
   ],
   "source": [
    "#Popcorn Hack\n",
    "grade = 90\n",
    "result = grade > 70 and grade < 100\n",
    "print(result)\n",
    "grade = 50\n",
    "result = grade > 70 and grade < 100\n",
    "print(result)\n",
    "\n",
    "\n",
    "\n",
    "\n",
    "score = 170\n",
    "highscore = 150\n",
    "lives = 2\n",
    "result = (score > highscore) or (lives>1)\n",
    "\n",
    "\n"
   ]
  },
  {
   "cell_type": "code",
   "execution_count": 9,
   "metadata": {},
   "outputs": [
    {
     "name": "stdout",
     "output_type": "stream",
     "text": [
      "15\n"
     ]
    }
   ],
   "source": [
    "\n",
    "#Popcorn Hack\n",
    "num1 = 5\n",
    "num2 = 10\n",
    "\n",
    "\n",
    "sum = num1 + num2 \n",
    "\n",
    "if sum>100: \n",
    "    print('100')\n",
    "else:\n",
    "    print(sum)"
   ]
  },
  {
   "cell_type": "code",
   "execution_count": 20,
   "metadata": {},
   "outputs": [
    {
     "name": "stdout",
     "output_type": "stream",
     "text": [
      "no need for tutoring\n"
     ]
    }
   ],
   "source": [
    "#Popcorn Hack\n",
    "KidGrade= 85\n",
    "\n",
    "if KidGrade >= 85 : \n",
    "    print(\"no need for tutoring\")\n",
    "else :\n",
    "    print('Needs tutoring')"
   ]
  },
  {
   "cell_type": "code",
   "execution_count": 14,
   "metadata": {},
   "outputs": [
    {
     "name": "stdout",
     "output_type": "stream",
     "text": [
      "True\n",
      "False\n"
     ]
    }
   ],
   "source": [
    "#Homework Hack1\n",
    "\n",
    "\n",
    "#True Boolean Expression\n",
    "student1= 95\n",
    "student2= 82\n",
    "student3= 91\n",
    "\n",
    "average= (student1+student2+student3)/3\n",
    "\n",
    "is_greater_than = average >= 85\n",
    "print(is_greater_than)\n",
    "\n",
    "\n",
    "#False Boolean Expression\n",
    "student1= 79\n",
    "student2= 81\n",
    "student3= 70\n",
    "\n",
    "average= (student1+student2+student3)/3\n",
    "\n",
    "is_greater_than = average >= 85\n",
    "print(is_greater_than)\n"
   ]
  },
  {
   "cell_type": "code",
   "execution_count": 19,
   "metadata": {},
   "outputs": [
    {
     "name": "stdout",
     "output_type": "stream",
     "text": [
      "False\n"
     ]
    }
   ],
   "source": [
    "#Homework Hack2\n",
    "temperature= 19\n",
    "weather = 'stormy'\n",
    "\n",
    "can_go_outside= weather == 'stormy' and temperature>=20\n",
    "\n",
    "print(can_go_outside)\n",
    "\n"
   ]
  }
 ],
 "metadata": {
  "kernelspec": {
   "display_name": "Python 3",
   "language": "python",
   "name": "python3"
  },
  "language_info": {
   "codemirror_mode": {
    "name": "ipython",
    "version": 3
   },
   "file_extension": ".py",
   "mimetype": "text/x-python",
   "name": "python",
   "nbconvert_exporter": "python",
   "pygments_lexer": "ipython3",
   "version": "3.11.4"
  }
 },
 "nbformat": 4,
 "nbformat_minor": 2
}
