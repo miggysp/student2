{
 "cells": [
  {
   "cell_type": "markdown",
   "metadata": {},
   "source": [
    "---\n",
    "comments: true\n",
    "layout: post\n",
    "title: Tester Function\n",
    "type: hacks\n",
    "courses: { compsci: {week: 5} }\n",
    "---"
   ]
  },
  {
   "cell_type": "code",
   "execution_count": 1,
   "metadata": {},
   "outputs": [
    {
     "name": "stdout",
     "output_type": "stream",
     "text": [
      "Test Passed\n",
      "Error: Input should be a positive number.\n",
      "Test Failed\n"
     ]
    }
   ],
   "source": [
    "\n",
    "# Example of a tester function for validating program functionality without try/catch\n",
    "def tester_function(program_input):\n",
    "    if program_input < 0:\n",
    "        print(\"Error: Input should be a positive number.\")\n",
    "        return  # Exit the function if input is invalid\n",
    "\n",
    "    # Use if/else statements to handle different cases\n",
    "    result = some_function(program_input)\n",
    "\n",
    "    # Check if the result is as expected\n",
    "    if result == expected_result:\n",
    "        print(\"Test Passed\")\n",
    "    else:\n",
    "        print(\"Test Failed\")\n",
    "\n",
    "# Example of a function with if/else statements\n",
    "def some_function(input_value):\n",
    "    if input_value < 0:\n",
    "        return \"Input is negative\"\n",
    "    elif input_value < 10:\n",
    "        return \"Less than 10\"\n",
    "    else:\n",
    "        return \"Greater than or equal to 10\"\n",
    "\n",
    "# Testing the function\n",
    "expected_result = \"Less than 10\"\n",
    "tester_function(5)  # Should print \"Test Passed\"\n",
    "tester_function(-5)  # Should print \"Error: Input should be a positive number.\"\n",
    "tester_function(15)  # Should print \"Test Failed\"\n"
   ]
  }
 ],
 "metadata": {
  "kernelspec": {
   "display_name": "Python 3",
   "language": "python",
   "name": "python3"
  },
  "language_info": {
   "codemirror_mode": {
    "name": "ipython",
    "version": 3
   },
   "file_extension": ".py",
   "mimetype": "text/x-python",
   "name": "python",
   "nbconvert_exporter": "python",
   "pygments_lexer": "ipython3",
   "version": "3.11.4"
  },
  "orig_nbformat": 4
 },
 "nbformat": 4,
 "nbformat_minor": 2
}
