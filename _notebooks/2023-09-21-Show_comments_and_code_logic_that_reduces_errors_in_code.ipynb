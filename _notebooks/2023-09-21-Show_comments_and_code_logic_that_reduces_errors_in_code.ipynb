{
 "cells": [
  {
   "cell_type": "markdown",
   "metadata": {},
   "source": [
    "---\n",
    "comments: true\n",
    "layout: post\n",
    "title: Show comments and code logic that reduces errors in code with try / catch statements.\n",
    "type: hacks\n",
    "courses: { compsci: {week: 5} }\n",
    "---"
   ]
  },
  {
   "cell_type": "code",
   "execution_count": 3,
   "metadata": {},
   "outputs": [
    {
     "name": "stdout",
     "output_type": "stream",
     "text": [
      "Division result: 5.0\n",
      "Division result: 10.0\n",
      "Error: Invalid input. unsupported operand type(s) for /: 'str' and 'int'\n"
     ]
    }
   ],
   "source": [
    "# Example: A function to divide two numbers\n",
    "\n",
    "def divide_numbers(dividend, divisor):\n",
    "    try:\n",
    "        # Attempt to perform the division\n",
    "        result = dividend / divisor\n",
    "\n",
    "        # Return the result if successful\n",
    "        return result\n",
    "\n",
    "    except ZeroDivisionError as zde:\n",
    "        # Handle division by zero error\n",
    "        print(f\"Error: Division by zero is not allowed. {zde}\")\n",
    "        return None\n",
    "\n",
    "    except TypeError as te:\n",
    "        # Handle type error (e.g., if either dividend or divisor is not a number)\n",
    "        print(f\"Error: Invalid input. {te}\")\n",
    "        return None\n",
    "\n",
    "# Test cases\n",
    "result = divide_numbers(10, 2)  # Should return 5.0\n",
    "if result is not None:\n",
    "    print(f\"Division result: {result}\")\n",
    "\n",
    "result = divide_numbers(10, 1)  # Should handle division by zero error\n",
    "if result is not None:\n",
    "    print(f\"Division result: {result}\")\n",
    "\n",
    "result = divide_numbers(\"10\", 5)  # Should handle type error\n",
    "if result is not None:\n",
    "    print(f\"Division result: {result}\")"
   ]
  }
 ],
 "metadata": {
  "kernelspec": {
   "display_name": "Python 3",
   "language": "python",
   "name": "python3"
  },
  "language_info": {
   "codemirror_mode": {
    "name": "ipython",
    "version": 3
   },
   "file_extension": ".py",
   "mimetype": "text/x-python",
   "name": "python",
   "nbconvert_exporter": "python",
   "pygments_lexer": "ipython3",
   "version": "3.11.4"
  },
  "orig_nbformat": 4
 },
 "nbformat": 4,
 "nbformat_minor": 2
}
