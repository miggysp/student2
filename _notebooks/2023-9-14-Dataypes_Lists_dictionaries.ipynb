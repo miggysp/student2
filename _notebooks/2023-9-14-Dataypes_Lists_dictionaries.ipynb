{
 "cells": [
  {
   "cell_type": "markdown",
   "metadata": {},
   "source": [
    "---\n",
    "toc: true\n",
    "comments: true\n",
    "layout: post\n",
    "title: Datatypes, Lists, Dictionaries\n",
    "courses: {\"compsci\": {\"week\": 4} }\n",
    "type: hacks\n",
    "---\n"
   ]
  },
  {
   "cell_type": "code",
   "execution_count": 1,
   "metadata": {},
   "outputs": [
    {
     "name": "stdout",
     "output_type": "stream",
     "text": [
      "What is the variable name/key? value? type? primitive or collection, why?\n",
      "name Miheer Purandare <class 'str'>\n"
     ]
    }
   ],
   "source": [
    "# Sample of Python Variables\n",
    "\n",
    "# variable of type string\n",
    "print(\"What is the variable name/key?\", \"value?\", \"type?\", \"primitive or collection, why?\")\n",
    "name = \"Miheer Purandare\"\n",
    "print(\"name\", name, type(name))"
   ]
  },
  {
   "cell_type": "code",
   "execution_count": 2,
   "metadata": {},
   "outputs": [
    {
     "name": "stdout",
     "output_type": "stream",
     "text": [
      "What is the variable name/key? value? type? primitive or collection, why?\n",
      "age 16 <class 'int'>\n"
     ]
    }
   ],
   "source": [
    "# variable of type integer\n",
    "print(\"What is the variable name/key?\", \"value?\", \"type?\", \"primitive or collection, why?\")\n",
    "age = 16\n",
    "print(\"age\", age, type(age))"
   ]
  },
  {
   "cell_type": "code",
   "execution_count": 3,
   "metadata": {},
   "outputs": [
    {
     "name": "stdout",
     "output_type": "stream",
     "text": [
      "What is the variable name/key? value? type? primitive or collection, why?\n",
      "score 90.0 <class 'float'>\n"
     ]
    }
   ],
   "source": [
    "# variable of type float\n",
    "print(\"What is the variable name/key?\", \"value?\", \"type?\", \"primitive or collection, why?\")\n",
    "score = 90.0\n",
    "print(\"score\", score, type(score))"
   ]
  },
  {
   "cell_type": "code",
   "execution_count": 4,
   "metadata": {},
   "outputs": [
    {
     "name": "stdout",
     "output_type": "stream",
     "text": [
      "What is variable name/key? value? type? primitive or collection?\n",
      "What is different about the list output?\n",
      "langs ['Python', 'JavaScript', 'Java'] <class 'list'> length 3\n",
      "- langs[0] Python <class 'str'>\n",
      "- langs[1] JavaScript <class 'str'>\n",
      "- langs[2] Java <class 'str'>\n"
     ]
    }
   ],
   "source": [
    "# variable of type list (many values in one variable)\n",
    "print(\"What is variable name/key?\", \"value?\", \"type?\", \"primitive or collection?\")\n",
    "print(\"What is different about the list output?\")\n",
    "langs = [\"Python\", \"JavaScript\", \"Java\"]\n",
    "print(\"langs\", langs, type(langs), \"length\", len(langs))\n",
    "print(\"- langs[0]\", langs[0], type(langs[0]))\n",
    "print(\"- langs[1]\", langs[1], type(langs[1]))\n",
    "print(\"- langs[2]\", langs[2], type(langs[2]))\n"
   ]
  },
  {
   "cell_type": "code",
   "execution_count": 5,
   "metadata": {},
   "outputs": [
    {
     "name": "stdout",
     "output_type": "stream",
     "text": [
      "What is the variable name/key? value? type? primitive or collection, why?\n",
      "What is different about the dictionary output?\n",
      "person {'name': 'Miheer Purandare', 'age': 16, 'score': 90.0, 'langs': ['Python', 'JavaScript', 'Java']} <class 'dict'> length 4\n",
      "- person[\"name\"] Miheer Purandare <class 'str'>\n",
      "- person[\"age\"] 16 <class 'int'>\n",
      "- person[\"score\"] 90.0 <class 'float'>\n",
      "- person[\"langs\"] ['Python', 'JavaScript', 'Java'] <class 'list'>\n"
     ]
    }
   ],
   "source": [
    "# variable of type dictionary (a group of keys and values)\n",
    "print(\"What is the variable name/key?\", \"value?\", \"type?\", \"primitive or collection, why?\")\n",
    "print(\"What is different about the dictionary output?\")\n",
    "person = {\n",
    "    \"name\": name,\n",
    "    \"age\": age,\n",
    "    \"score\": score,\n",
    "    \"langs\": langs\n",
    "}\n",
    "print(\"person\", person, type(person), \"length\", len(person))\n",
    "print('- person[\"name\"]', person[\"name\"], type(person[\"name\"]))\n",
    "print('- person[\"age\"]', person[\"age\"], type(person[\"age\"]))\n",
    "print('- person[\"score\"]', person[\"score\"], type(person[\"score\"]))\n",
    "print('- person[\"langs\"]', person[\"langs\"], type(person[\"langs\"]))\n"
   ]
  },
  {
   "cell_type": "code",
   "execution_count": 6,
   "metadata": {},
   "outputs": [
    {
     "name": "stdout",
     "output_type": "stream",
     "text": [
      "[{'FirstName': 'Drishya', 'LastName': 'Mody', 'DOB': 'July 15', 'Residence': 'San Diego', 'Email': 'modydrishya@gmail.com', 'Owns_Cars': ['Mazda', 'Tesla']}, {'FirstName': 'Miheer', 'LastName': 'Purandare', 'DOB': 'August 3', 'Residence': 'San Diego', 'Email': 'miheerpurandare07@gmail.com', 'Owns_Cars': ['Tesla', 'Acura']}, {'FirstName': 'Tanvi', 'LastName': 'Pampati', 'DOB': 'March 30', 'Residence': 'San Diego', 'Email': 'tanvi.pampati@gmail.com', 'Owns_Cars': ['Tesla Model 3']}, {'FirstName': 'Anagha', 'LastName': 'Ashtewale', 'DOB': 'December 12', 'Residence': 'San Diego', 'Email': 'aashtewale@gmail.com', 'Owns_Cars': ['Audi', 'Toyota']}]\n"
     ]
    }
   ],
   "source": [
    "# Define an empty List called InfoDb\n",
    "InfoDb = []\n",
    "\n",
    "# InfoDB is a data structure with expected Keys and Values\n",
    "\n",
    "# Append to List a Dictionary of key/values related to a person and cars\n",
    "InfoDb.append({\n",
    "    \"FirstName\": \"Drishya\",\n",
    "    \"LastName\": \"Mody\",\n",
    "    \"DOB\": \"July 15\",\n",
    "    \"Residence\": \"San Diego\",\n",
    "    \"Email\": \"modydrishya@gmail.com\",\n",
    "    \"Owns_Cars\": [\"Mazda\", \"Tesla\"]\n",
    "})\n",
    "\n",
    "# Append to List a 2nd Dictionary of key/values\n",
    "InfoDb.append({\n",
    "    \"FirstName\": \"Miheer\",\n",
    "    \"LastName\": \"Purandare\",\n",
    "    \"DOB\": \"August 3\",\n",
    "    \"Residence\": \"San Diego\",\n",
    "    \"Email\": \"miheerpurandare07@gmail.com\",\n",
    "    \"Owns_Cars\": [\"Tesla\", \"Acura\"]\n",
    "})\n",
    "\n",
    "# Append to List a 2nd Dictionary of key/values\n",
    "InfoDb.append({\n",
    "    \"FirstName\": \"Tanvi\",\n",
    "    \"LastName\": \"Pampati\",\n",
    "    \"DOB\": \"March 30\",\n",
    "    \"Residence\": \"San Diego\",\n",
    "    \"Email\": \"tanvi.pampati@gmail.com\",\n",
    "    \"Owns_Cars\": [\"Tesla Model 3\"]\n",
    "})\n",
    "\n",
    "#Append to list a 3rd Dictionary of key/values\n",
    "InfoDb.append({\n",
    "    \"FirstName\": \"Anagha\",\n",
    "    \"LastName\": \"Ashtewale\",\n",
    "    \"DOB\": \"December 12\",\n",
    "    \"Residence\": \"San Diego\",\n",
    "    \"Email\": \"aashtewale@gmail.com\",\n",
    "    \"Owns_Cars\": [\"Audi\", \"Toyota\"]\n",
    "})\n",
    "\n",
    "# Print the data structure\n",
    "print(InfoDb)"
   ]
  }
 ],
 "metadata": {
  "kernelspec": {
   "display_name": "Python 3",
   "language": "python",
   "name": "python3"
  },
  "language_info": {
   "codemirror_mode": {
    "name": "ipython",
    "version": 3
   },
   "file_extension": ".py",
   "mimetype": "text/x-python",
   "name": "python",
   "nbconvert_exporter": "python",
   "pygments_lexer": "ipython3",
   "version": "3.11.5"
  },
  "orig_nbformat": 4
 },
 "nbformat": 4,
 "nbformat_minor": 2
}
