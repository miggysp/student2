{
 "cells": [
  {
   "cell_type": "markdown",
   "metadata": {},
   "source": [
    "---\n",
    "toc: true\n",
    "comments: true\n",
    "layout: post\n",
    "title: Python Dictionary\n",
    "courses: {\"compsci\": {\"week\": 5} }\n",
    "type: hacks\n",
    "---\n"
   ]
  },
  {
   "cell_type": "code",
   "execution_count": 2,
   "metadata": {},
   "outputs": [
    {
     "name": "stdout",
     "output_type": "stream",
     "text": [
      "Defaulting to user installation because normal site-packages is not writeable\n",
      "Requirement already satisfied: PyDictionary in c:\\users\\mihee\\appdata\\roaming\\python\\python311\\site-packages (2.0.1)\n",
      "Requirement already satisfied: bs4 in c:\\users\\mihee\\appdata\\roaming\\python\\python311\\site-packages (from PyDictionary) (0.0.1)\n",
      "Requirement already satisfied: click in c:\\users\\mihee\\appdata\\roaming\\python\\python311\\site-packages (from PyDictionary) (8.1.7)\n",
      "Requirement already satisfied: goslate in c:\\users\\mihee\\appdata\\roaming\\python\\python311\\site-packages (from PyDictionary) (1.5.4)\n",
      "Requirement already satisfied: requests in c:\\users\\mihee\\appdata\\roaming\\python\\python311\\site-packages (from PyDictionary) (2.31.0)\n",
      "Requirement already satisfied: beautifulsoup4 in c:\\users\\mihee\\appdata\\roaming\\python\\python311\\site-packages (from bs4->PyDictionary) (4.12.2)\n",
      "Requirement already satisfied: colorama in c:\\users\\mihee\\appdata\\roaming\\python\\python311\\site-packages (from click->PyDictionary) (0.4.6)\n",
      "Requirement already satisfied: futures in c:\\users\\mihee\\appdata\\roaming\\python\\python311\\site-packages (from goslate->PyDictionary) (3.0.5)\n",
      "Requirement already satisfied: charset-normalizer<4,>=2 in c:\\users\\mihee\\appdata\\roaming\\python\\python311\\site-packages (from requests->PyDictionary) (3.2.0)\n",
      "Requirement already satisfied: idna<4,>=2.5 in c:\\users\\mihee\\appdata\\roaming\\python\\python311\\site-packages (from requests->PyDictionary) (3.4)\n",
      "Requirement already satisfied: urllib3<3,>=1.21.1 in c:\\users\\mihee\\appdata\\roaming\\python\\python311\\site-packages (from requests->PyDictionary) (2.0.4)\n",
      "Requirement already satisfied: certifi>=2017.4.17 in c:\\users\\mihee\\appdata\\roaming\\python\\python311\\site-packages (from requests->PyDictionary) (2023.7.22)\n",
      "Requirement already satisfied: soupsieve>1.2 in c:\\users\\mihee\\appdata\\roaming\\python\\python311\\site-packages (from beautifulsoup4->bs4->PyDictionary) (2.5)\n",
      "Note: you may need to restart the kernel to use updated packages.\n"
     ]
    }
   ],
   "source": [
    "pip install PyDictionary\n"
   ]
  },
  {
   "cell_type": "code",
   "execution_count": 3,
   "metadata": {},
   "outputs": [
    {
     "name": "stdout",
     "output_type": "stream",
     "text": [
      "Adjective:\n",
      "  - one or some or every or all without specification\n",
      "Adverb:\n",
      "  - to any degree or extent\n"
     ]
    }
   ],
   "source": [
    "from PyDictionary import PyDictionary\n",
    "\n",
    "#Initialize the PyDictionary\n",
    "dictionary = PyDictionary()\n",
    "\n",
    "#Function to fetch the meaning of a word\n",
    "def fetch_meaning(word):\n",
    "    try:\n",
    "        meanings = dictionary.meaning(word)\n",
    "        if meanings:\n",
    "            for part_of_speech, definition_list in meanings.items():\n",
    "                print(f\"{part_of_speech}:\")\n",
    "                for definition in definition_list:\n",
    "                    print(f\"  - {definition}\")\n",
    "        else:\n",
    "            print(f\"Meaning not found for '{word}'\")\n",
    "    except Exception as e:\n",
    "        print(f\"An error occurred: {e}\")\n",
    "\n",
    "#Simple CLI interface for word lookup\n",
    "while True:\n",
    "    user_input = input(\"Enter a word to lookup (or 'exit' to quit): \").strip()\n",
    "\n",
    "    if user_input.lower() == 'exit':\n",
    "        break\n",
    "\n",
    "    fetch_meaning(user_input)\n",
    "\n"
   ]
  }
 ],
 "metadata": {
  "kernelspec": {
   "display_name": "Python 3",
   "language": "python",
   "name": "python3"
  },
  "language_info": {
   "codemirror_mode": {
    "name": "ipython",
    "version": 3
   },
   "file_extension": ".py",
   "mimetype": "text/x-python",
   "name": "python",
   "nbconvert_exporter": "python",
   "pygments_lexer": "ipython3",
   "version": "3.11.5"
  },
  "orig_nbformat": 4
 },
 "nbformat": 4,
 "nbformat_minor": 2
}
