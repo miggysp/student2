{
 "cells": [
  {
   "cell_type": "code",
   "execution_count": 1,
   "metadata": {},
   "outputs": [
    {
     "name": "stdout",
     "output_type": "stream",
     "text": [
      "What is your name?drishya\n",
      "Hi drishya! Are you ready for the quiz!\n"
     ]
    }
   ],
   "source": [
    "# Asking name before quiz\n",
    "name=input(\"What is your name?\")\n",
    "score = 0\n",
    "print(f'Hi {name}! Are you ready for the quiz!')"
   ]
  },
  {
   "cell_type": "code",
   "execution_count": null,
   "metadata": {},
   "outputs": [],
   "source": [
    "#Question 1 sequence\n",
    "question1=input('Name the Python output command mentioned in this lesson?')\n",
    "print(f'{question1}')\n",
    "if question1 == 'print':\n",
    "    print('Great Job! Ready for the next question?')\n",
    "    score = score + 1\n",
    "elif question1=='print()':\n",
    "        print('Great Job! Ready for the next question?')\n",
    "        score = score + 1\n",
    "else:\n",
    "     print ('Sorry that is incorrect')\n"
   ]
  },
  {
   "cell_type": "code",
   "execution_count": null,
   "metadata": {},
   "outputs": [],
   "source": [
    "#Question 2 Sequqnce\n",
    "question2=input('What is the closest planet to the Sun')\n",
    "print(f'{question2}')\n",
    "if question2 == 'Mercury':\n",
    "    print('Great Job! Ready for the next question?')\n",
    "    score = score + 1\n",
    "\n",
    "elif question2 == 'mercury':\n",
    "    print('Great Job! Ready for the next question?')\n",
    "    score = score + 1\n",
    "\n",
    "else:\n",
    "     print ('Sorry that is incorrect')\n"
   ]
  },
  {
   "cell_type": "code",
   "execution_count": null,
   "metadata": {},
   "outputs": [],
   "source": [
    "#score calculation\n",
    "print(score/2)"
   ]
  }
 ],
 "metadata": {
  "kernelspec": {
   "display_name": "Python 3 (ipykernel)",
   "language": "python",
   "name": "python3"
  },
  "language_info": {
   "codemirror_mode": {
    "name": "ipython",
    "version": 3
   },
   "file_extension": ".py",
   "mimetype": "text/x-python",
   "name": "python",
   "nbconvert_exporter": "python",
   "pygments_lexer": "ipython3",
   "version": "3.10.12"
  }
 },
 "nbformat": 4,
 "nbformat_minor": 2
}
