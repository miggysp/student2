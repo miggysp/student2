{
 "cells": [
  {
   "cell_type": "code",
   "execution_count": 1,
   "metadata": {},
   "outputs": [
    {
     "name": "stdout",
     "output_type": "stream",
     "text": [
      "Defaulting to user installation because normal site-packages is not writeable\n",
      "Collecting emoji\n",
      "  Obtaining dependency information for emoji from https://files.pythonhosted.org/packages/96/c6/0114b2040a96561fd1b44c75df749bbd3c898bf8047fb5ce8d7590d2dee6/emoji-2.8.0-py2.py3-none-any.whl.metadata\n",
      "  Downloading emoji-2.8.0-py2.py3-none-any.whl.metadata (5.3 kB)\n",
      "Downloading emoji-2.8.0-py2.py3-none-any.whl (358 kB)\n",
      "   ---------------------------------------- 0.0/358.9 kB ? eta -:--:--\n",
      "   ---------------------------------------- 0.0/358.9 kB ? eta -:--:--\n",
      "   --- ------------------------------------ 30.7/358.9 kB 1.3 MB/s eta 0:00:01\n",
      "   --- ------------------------------------ 30.7/358.9 kB 1.3 MB/s eta 0:00:01\n",
      "   ---- ---------------------------------- 41.0/358.9 kB 245.8 kB/s eta 0:00:02\n",
      "   -------- ------------------------------ 81.9/358.9 kB 416.7 kB/s eta 0:00:01\n",
      "   -------- ------------------------------ 81.9/358.9 kB 416.7 kB/s eta 0:00:01\n",
      "   ---------- ---------------------------- 92.2/358.9 kB 348.6 kB/s eta 0:00:01\n",
      "   ---------- ---------------------------- 92.2/358.9 kB 348.6 kB/s eta 0:00:01\n",
      "   ---------- ---------------------------- 92.2/358.9 kB 348.6 kB/s eta 0:00:01\n",
      "   ---------- ---------------------------- 92.2/358.9 kB 348.6 kB/s eta 0:00:01\n",
      "   ---------- ---------------------------- 92.2/358.9 kB 348.6 kB/s eta 0:00:01\n",
      "   ---------- ---------------------------- 92.2/358.9 kB 348.6 kB/s eta 0:00:01\n",
      "   ---------- ---------------------------- 92.2/358.9 kB 348.6 kB/s eta 0:00:01\n",
      "   ---------- ---------------------------- 92.2/358.9 kB 348.6 kB/s eta 0:00:01\n",
      "   ---------- ---------------------------- 92.2/358.9 kB 348.6 kB/s eta 0:00:01\n",
      "   ---------- ---------------------------- 92.2/358.9 kB 348.6 kB/s eta 0:00:01\n",
      "   ---------- ---------------------------- 92.2/358.9 kB 348.6 kB/s eta 0:00:01\n",
      "   ------------- ------------------------ 122.9/358.9 kB 150.2 kB/s eta 0:00:02\n",
      "   --------------- ---------------------- 143.4/358.9 kB 170.2 kB/s eta 0:00:02\n",
      "   --------------- ---------------------- 143.4/358.9 kB 170.2 kB/s eta 0:00:02\n",
      "   --------------- ---------------------- 143.4/358.9 kB 170.2 kB/s eta 0:00:02\n",
      "   --------------- ---------------------- 143.4/358.9 kB 170.2 kB/s eta 0:00:02\n",
      "   ----------------- -------------------- 163.8/358.9 kB 161.0 kB/s eta 0:00:02\n",
      "   ------------------ ------------------- 174.1/358.9 kB 166.3 kB/s eta 0:00:02\n",
      "   -------------------- ----------------- 194.6/358.9 kB 178.6 kB/s eta 0:00:01\n",
      "   --------------------- ---------------- 204.8/358.9 kB 180.3 kB/s eta 0:00:01\n",
      "   --------------------- ---------------- 204.8/358.9 kB 180.3 kB/s eta 0:00:01\n",
      "   ----------------------- -------------- 225.3/358.9 kB 183.5 kB/s eta 0:00:01\n",
      "   ----------------------- -------------- 225.3/358.9 kB 183.5 kB/s eta 0:00:01\n",
      "   ----------------------- -------------- 225.3/358.9 kB 183.5 kB/s eta 0:00:01\n",
      "   -------------------------- ----------- 245.8/358.9 kB 181.6 kB/s eta 0:00:01\n",
      "   --------------------------- ---------- 256.0/358.9 kB 180.7 kB/s eta 0:00:01\n",
      "   ----------------------------- -------- 276.5/358.9 kB 191.4 kB/s eta 0:00:01\n",
      "   ------------------------------ ------- 286.7/358.9 kB 190.2 kB/s eta 0:00:01\n",
      "   -------------------------------- ----- 307.2/358.9 kB 202.2 kB/s eta 0:00:01\n",
      "   -------------------------------- ----- 307.2/358.9 kB 202.2 kB/s eta 0:00:01\n",
      "   ----------------------------------- -- 337.9/358.9 kB 205.6 kB/s eta 0:00:01\n",
      "   ----------------------------------- -- 337.9/358.9 kB 205.6 kB/s eta 0:00:01\n",
      "   -------------------------------------- 358.9/358.9 kB 210.4 kB/s eta 0:00:00\n",
      "Installing collected packages: emoji\n",
      "Successfully installed emoji-2.8.0\n",
      "Note: you may need to restart the kernel to use updated packages.\n"
     ]
    },
    {
     "name": "stderr",
     "output_type": "stream",
     "text": [
      "WARNING: Retrying (Retry(total=4, connect=None, read=None, redirect=None, status=None)) after connection broken by 'NewConnectionError('<pip._vendor.urllib3.connection.HTTPSConnection object at 0x00000217DBA29E50>: Failed to establish a new connection: [Errno 11001] getaddrinfo failed')': /simple/emoji/\n",
      "WARNING: Retrying (Retry(total=3, connect=None, read=None, redirect=None, status=None)) after connection broken by 'NewConnectionError('<pip._vendor.urllib3.connection.HTTPSConnection object at 0x00000217DBA2AA50>: Failed to establish a new connection: [Errno 11001] getaddrinfo failed')': /simple/emoji/\n"
     ]
    }
   ],
   "source": [
    "pip install emoji\n"
   ]
  },
  {
   "cell_type": "code",
   "execution_count": 4,
   "metadata": {},
   "outputs": [
    {
     "name": "stdout",
     "output_type": "stream",
     "text": [
      "👍 Python is awesome! 😀\n"
     ]
    }
   ],
   "source": [
    "from emoji import emojize\n",
    "print(emojize(\":thumbs_up: Python is awesome! :grinning_face:\"))"
   ]
  }
 ],
 "metadata": {
  "kernelspec": {
   "display_name": "Python 3",
   "language": "python",
   "name": "python3"
  },
  "language_info": {
   "codemirror_mode": {
    "name": "ipython",
    "version": 3
   },
   "file_extension": ".py",
   "mimetype": "text/x-python",
   "name": "python",
   "nbconvert_exporter": "python",
   "pygments_lexer": "ipython3",
   "version": "3.11.5"
  },
  "orig_nbformat": 4
 },
 "nbformat": 4,
 "nbformat_minor": 2
}
